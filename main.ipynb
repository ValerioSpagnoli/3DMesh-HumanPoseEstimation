{
 "cells": [
  {
   "cell_type": "code",
   "execution_count": 1,
   "metadata": {},
   "outputs": [],
   "source": [
    "import os\n",
    "import sys\n",
    "import numpy as np\n",
    "\n",
    "import torch\n",
    "import torch.nn as nn\n",
    "import torch.nn.functional as F\n",
    "from torch.utils.data import DataLoader\n",
    "\n",
    "from models.mesh_classifier import ClassifierModel\n",
    "\n",
    "from data.data import ClassificationData, collate_fn\n",
    "import utils.util as util"
   ]
  },
  {
   "cell_type": "code",
   "execution_count": 2,
   "metadata": {},
   "outputs": [],
   "source": [
    "dataroot = 'datasets/human_class' \n",
    "phase = 'train'\n",
    "export_folder = 'export'\n",
    "checkpoints_dir = 'checkpoints'\n",
    "name = 'classification'\n",
    "ninput_edges = 750\n",
    "num_aug = 1\n",
    "\n",
    "batch_size = 16\n",
    "num_workers = 4"
   ]
  },
  {
   "cell_type": "code",
   "execution_count": 3,
   "metadata": {},
   "outputs": [],
   "source": [
    "device = torch.device(\"cuda\" if torch.cuda.is_available() else \"cpu\")"
   ]
  },
  {
   "cell_type": "code",
   "execution_count": 4,
   "metadata": {},
   "outputs": [
    {
     "name": "stdout",
     "output_type": "stream",
     "text": [
      "loaded mean / std from cache\n"
     ]
    }
   ],
   "source": [
    "dataset = ClassificationData(dataroot=dataroot, phase=phase, export_folder=export_folder, device=device, ninput_edges=ninput_edges, num_aug=num_aug)\n",
    "dataloader = DataLoader(\n",
    "    dataset,\n",
    "    batch_size=batch_size,\n",
    "    shuffle=True,\n",
    "    num_workers=num_workers,\n",
    "    collate_fn=collate_fn\n",
    ")\n",
    "\n",
    "nclasses = dataset.get_nclasses()   \n",
    "ninput_channels = dataset.get_ninput_channels()"
   ]
  },
  {
   "cell_type": "code",
   "execution_count": 6,
   "metadata": {},
   "outputs": [
    {
     "ename": "NotImplementedError",
     "evalue": "normalization layer [BatchNorm2d] is not found",
     "output_type": "error",
     "traceback": [
      "\u001b[0;31m---------------------------------------------------------------------------\u001b[0m",
      "\u001b[0;31mNotImplementedError\u001b[0m                       Traceback (most recent call last)",
      "Cell \u001b[0;32mIn[6], line 14\u001b[0m\n\u001b[1;32m     11\u001b[0m lr \u001b[38;5;241m=\u001b[39m \u001b[38;5;241m0.001\u001b[39m \u001b[38;5;66;03m# initial learning rate for adam\u001b[39;00m\n\u001b[1;32m     12\u001b[0m beta1 \u001b[38;5;241m=\u001b[39m \u001b[38;5;241m0.9\u001b[39m \u001b[38;5;66;03m# momentum1 in adam\u001b[39;00m\n\u001b[0;32m---> 14\u001b[0m classifier_model \u001b[38;5;241m=\u001b[39m \u001b[43mClassifierModel\u001b[49m\u001b[43m(\u001b[49m\u001b[43mis_train\u001b[49m\u001b[38;5;241;43m=\u001b[39;49m\u001b[43mis_train\u001b[49m\u001b[43m,\u001b[49m\u001b[43m \u001b[49m\u001b[43mdevice\u001b[49m\u001b[38;5;241;43m=\u001b[39;49m\u001b[43mdevice\u001b[49m\u001b[43m,\u001b[49m\u001b[43m \u001b[49m\u001b[43mnclasses\u001b[49m\u001b[38;5;241;43m=\u001b[39;49m\u001b[43mnclasses\u001b[49m\u001b[43m,\u001b[49m\u001b[43m \u001b[49m\u001b[43mninput_channels\u001b[49m\u001b[38;5;241;43m=\u001b[39;49m\u001b[43mninput_channels\u001b[49m\u001b[43m)\u001b[49m\n",
      "File \u001b[0;32m~/Documents/University/3DMesh-HumanPoseEstimation/models/mesh_classifier.py:35\u001b[0m, in \u001b[0;36mClassifierModel.__init__\u001b[0;34m(self, is_train, device, nclasses, ninput_channels, checkpoints_dir, ncf, ninput_edges, pool_res, fc_n, resblocks, norm_type, num_groups, init_type, init_gain, lr, beta1, load_epoch)\u001b[0m\n\u001b[1;32m     32\u001b[0m \u001b[38;5;28mself\u001b[39m\u001b[38;5;241m.\u001b[39mloss \u001b[38;5;241m=\u001b[39m \u001b[38;5;28;01mNone\u001b[39;00m\n\u001b[1;32m     34\u001b[0m norm_layer \u001b[38;5;241m=\u001b[39m networks\u001b[38;5;241m.\u001b[39mget_norm_layer(norm_type\u001b[38;5;241m=\u001b[39mnorm_type, num_groups\u001b[38;5;241m=\u001b[39mnum_groups)\n\u001b[0;32m---> 35\u001b[0m net \u001b[38;5;241m=\u001b[39m \u001b[43mnetworks\u001b[49m\u001b[38;5;241;43m.\u001b[39;49m\u001b[43mMeshConvNet\u001b[49m\u001b[43m(\u001b[49m\u001b[43mnorm_layer\u001b[49m\u001b[43m,\u001b[49m\u001b[43m \u001b[49m\u001b[43mninput_channels\u001b[49m\u001b[43m,\u001b[49m\u001b[43m \u001b[49m\u001b[43mncf\u001b[49m\u001b[43m,\u001b[49m\u001b[43m \u001b[49m\u001b[43mnclasses\u001b[49m\u001b[43m,\u001b[49m\u001b[43m \u001b[49m\u001b[43mninput_edges\u001b[49m\u001b[43m,\u001b[49m\u001b[43m \u001b[49m\u001b[43mpool_res\u001b[49m\u001b[43m,\u001b[49m\u001b[43m \u001b[49m\u001b[43mfc_n\u001b[49m\u001b[43m,\u001b[49m\u001b[43m \u001b[49m\u001b[43mresblocks\u001b[49m\u001b[43m)\u001b[49m\n\u001b[1;32m     36\u001b[0m \u001b[38;5;28mself\u001b[39m\u001b[38;5;241m.\u001b[39mnet \u001b[38;5;241m=\u001b[39m networks\u001b[38;5;241m.\u001b[39minit_weights(net, init_type, init_gain)\n\u001b[1;32m     38\u001b[0m \u001b[38;5;28mself\u001b[39m\u001b[38;5;241m.\u001b[39mnet\u001b[38;5;241m.\u001b[39mtrain(is_train)\n",
      "File \u001b[0;32m~/Documents/University/3DMesh-HumanPoseEstimation/models/networks.py:81\u001b[0m, in \u001b[0;36mMeshConvNet.__init__\u001b[0;34m(self, norm_layer, nf0, conv_res, nclasses, input_res, pool_res, fc_n, nresblocks)\u001b[0m\n\u001b[1;32m     79\u001b[0m \u001b[38;5;28mself\u001b[39m\u001b[38;5;241m.\u001b[39mk \u001b[38;5;241m=\u001b[39m [nf0] \u001b[38;5;241m+\u001b[39m conv_res\n\u001b[1;32m     80\u001b[0m \u001b[38;5;28mself\u001b[39m\u001b[38;5;241m.\u001b[39mres \u001b[38;5;241m=\u001b[39m [input_res] \u001b[38;5;241m+\u001b[39m pool_res\n\u001b[0;32m---> 81\u001b[0m norm_args \u001b[38;5;241m=\u001b[39m \u001b[43mget_norm_args\u001b[49m\u001b[43m(\u001b[49m\u001b[43mnorm_layer\u001b[49m\u001b[43m,\u001b[49m\u001b[43m \u001b[49m\u001b[38;5;28;43mself\u001b[39;49m\u001b[38;5;241;43m.\u001b[39;49m\u001b[43mk\u001b[49m\u001b[43m[\u001b[49m\u001b[38;5;241;43m1\u001b[39;49m\u001b[43m:\u001b[49m\u001b[43m]\u001b[49m\u001b[43m)\u001b[49m\n\u001b[1;32m     83\u001b[0m \u001b[38;5;28;01mfor\u001b[39;00m i, ki \u001b[38;5;129;01min\u001b[39;00m \u001b[38;5;28menumerate\u001b[39m(\u001b[38;5;28mself\u001b[39m\u001b[38;5;241m.\u001b[39mk[:\u001b[38;5;241m-\u001b[39m\u001b[38;5;241m1\u001b[39m]):\n\u001b[1;32m     84\u001b[0m     \u001b[38;5;28msetattr\u001b[39m(\u001b[38;5;28mself\u001b[39m, \u001b[38;5;124m'\u001b[39m\u001b[38;5;124mconv\u001b[39m\u001b[38;5;132;01m{}\u001b[39;00m\u001b[38;5;124m'\u001b[39m\u001b[38;5;241m.\u001b[39mformat(i), MResConv(ki, \u001b[38;5;28mself\u001b[39m\u001b[38;5;241m.\u001b[39mk[i \u001b[38;5;241m+\u001b[39m \u001b[38;5;241m1\u001b[39m], nresblocks))\n",
      "File \u001b[0;32m~/Documents/University/3DMesh-HumanPoseEstimation/models/networks.py:38\u001b[0m, in \u001b[0;36mget_norm_args\u001b[0;34m(norm_layer, nfeats_list)\u001b[0m\n\u001b[1;32m     36\u001b[0m     norm_args \u001b[38;5;241m=\u001b[39m [{\u001b[38;5;124m'\u001b[39m\u001b[38;5;124mnum_features\u001b[39m\u001b[38;5;124m'\u001b[39m: f} \u001b[38;5;28;01mfor\u001b[39;00m f \u001b[38;5;129;01min\u001b[39;00m nfeats_list]\n\u001b[1;32m     37\u001b[0m \u001b[38;5;28;01melse\u001b[39;00m:\n\u001b[0;32m---> 38\u001b[0m     \u001b[38;5;28;01mraise\u001b[39;00m \u001b[38;5;167;01mNotImplementedError\u001b[39;00m(\u001b[38;5;124m'\u001b[39m\u001b[38;5;124mnormalization layer [\u001b[39m\u001b[38;5;132;01m%s\u001b[39;00m\u001b[38;5;124m] is not found\u001b[39m\u001b[38;5;124m'\u001b[39m \u001b[38;5;241m%\u001b[39m norm_layer\u001b[38;5;241m.\u001b[39mfunc\u001b[38;5;241m.\u001b[39m\u001b[38;5;18m__name__\u001b[39m)\n\u001b[1;32m     39\u001b[0m \u001b[38;5;28;01mreturn\u001b[39;00m norm_args\n",
      "\u001b[0;31mNotImplementedError\u001b[0m: normalization layer [BatchNorm2d] is not found"
     ]
    }
   ],
   "source": [
    "is_train = True\n",
    "\n",
    "norm_type = 'group' # batch, instance, group\n",
    "num_groups = 16\n",
    "ncf = [64, 128, 256, 256] # convolutional filters\n",
    "pool_res = [600, 450, 300, 180] # pooling resolution\n",
    "fc_n = 100 # number of fully connected layer between fc and nclasses\n",
    "resblocks = 3 # number of res blocks\n",
    "init_type = 'normal' # normal, xavier, kaiming, orthogonal\n",
    "init_gain = 0.02 # for init_type = normal, xavier, kaiming\n",
    "lr = 0.001 # initial learning rate for adam\n",
    "beta1 = 0.9 # momentum1 in adam\n",
    "\n",
    "classifier_model = ClassifierModel(is_train=is_train, device=device, nclasses=nclasses, ninput_channels=ninput_channels)"
   ]
  }
 ],
 "metadata": {
  "kernelspec": {
   "display_name": "Python 3",
   "language": "python",
   "name": "python3"
  },
  "language_info": {
   "codemirror_mode": {
    "name": "ipython",
    "version": 3
   },
   "file_extension": ".py",
   "mimetype": "text/x-python",
   "name": "python",
   "nbconvert_exporter": "python",
   "pygments_lexer": "ipython3",
   "version": "3.10.12"
  }
 },
 "nbformat": 4,
 "nbformat_minor": 2
}
